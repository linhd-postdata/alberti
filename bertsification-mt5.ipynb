{
 "cells": [
  {
   "cell_type": "code",
   "execution_count": 1,
   "metadata": {},
   "outputs": [
    {
     "name": "stderr",
     "output_type": "stream",
     "text": [
      "WARNING:root:Limited tf.compat.v2.summary API due to missing TensorBoard installation.\n",
      "WARNING:root:Limited tf.compat.v2.summary API due to missing TensorBoard installation.\n",
      "WARNING:root:Limited tf.compat.v2.summary API due to missing TensorBoard installation.\n",
      "WARNING:root:Limited tf.summary API due to missing TensorBoard installation.\n"
     ]
    }
   ],
   "source": [
    "import json\n",
    "import re\n",
    "from datetime import datetime\n",
    "from pprint import pprint\n",
    "from statistics import mean\n",
    "\n",
    "import numpy as np\n",
    "import pandas as pd\n",
    "from simpletransformers.t5 import T5Model\n",
    "from sklearn.metrics import accuracy_score, f1_score\n",
    "from transformers.data.metrics.squad_metrics import compute_exact, compute_f1\n",
    "from simpletransformers.t5 import T5Model\n",
    "from sklearn.model_selection import train_test_split\n",
    "\n",
    "\n",
    "def f1(truths, preds):\n",
    "    return mean([compute_f1(truth, pred) for truth, pred in zip(truths, preds)])\n",
    "\n",
    "\n",
    "def exact(truths, preds):\n",
    "    return mean([compute_exact(truth, pred) for truth, pred in zip(truths, preds)])"
   ]
  },
  {
   "cell_type": "code",
   "execution_count": 2,
   "metadata": {},
   "outputs": [],
   "source": [
    "def clean_text(string):\n",
    "    output = string.strip()\n",
    "    # replacements = ((\"“\", '\"'), (\"”\", '\"'), (\"//\", \"\"), (\"«\", '\"'), (\"»\",'\"'))\n",
    "    replacements = (\n",
    "      (\"“\", ''), (\"”\", ''), (\"//\", \"\"), (\"«\", ''), (\"»\",''), (\",\", ''),\n",
    "      (\";\", ''), (\".\", ''),\n",
    "    #   (\"?\", ''), (\"¿\", ''), (\"¡\", ''), (\"!\", ''), (\"-\", ' '),\n",
    "    )\n",
    "    for replacement in replacements:\n",
    "        output = output.replace(*replacement)\n",
    "    # Any sequence of two or more spaces should be converted into one space\n",
    "    output = re.sub(r'(?is)\\s+', ' ', output)\n",
    "    return output.strip().lower()\n",
    "\n",
    "\n",
    "def metric2binary(meter, pad=11):\n",
    "    return ([1 if syllable == \"+\" else 0 for syllable in meter] + [0] * (11 - len(meter)))[:pad]\n",
    "\n",
    "\n",
    "def label2metric(label):\n",
    "    return \"\".join(\"+\" if l else \"-\" for l in label)\n",
    "\n",
    "\n",
    "def label2indexed(label):\n",
    "    return \", \".join(str(i + 1) for i, l in enumerate(label) if l == \"+\")\n",
    "\n",
    "\n",
    "def flat_accuracy(preds, labels):\n",
    "    pred_flat = np.argmax(preds, axis=1).flatten()\n",
    "    labels_flat = labels.flatten()\n",
    "    return np.sum(pred_flat == labels_flat) / len(labels_flat)"
   ]
  },
  {
   "cell_type": "code",
   "execution_count": 3,
   "metadata": {},
   "outputs": [
    {
     "name": "stderr",
     "output_type": "stream",
     "text": [
      "/opt/conda/lib/python3.7/site-packages/ipykernel_launcher.py:26: UserWarning: Boolean Series key will be reindexed to match DataFrame index.\n"
     ]
    }
   ],
   "source": [
    "es_test = (pd\n",
    "    .read_json(open(\"adso100.json\"))\n",
    "    .query(\"manually_checked == True\")[[\"line_text\", \"metrical_pattern\"]]\n",
    "    .assign(\n",
    "        line_text=lambda x: x[\"line_text\"].apply(clean_text),\n",
    "        length=lambda x: x[\"metrical_pattern\"].str.len()\n",
    "    )\n",
    "    .drop_duplicates(\"line_text\")\n",
    "    .rename(columns={\"line_text\": \"input_text\", \"metrical_pattern\": \"meter\"})\n",
    ")\n",
    "es_test = es_test[es_test[\"length\"] == 11]\n",
    "pos_names = [f\"pos{i}\" for i in range(1, 12)]\n",
    "pos_labels = es_test.meter.apply(metric2binary)\n",
    "es_test[\"labels\"] = pos_labels\n",
    "es_test[pos_names] = pos_labels.tolist()\n",
    "es = (pd\n",
    "    .read_json(open(\"adso.json\"))\n",
    "    .query(\"manually_checked == True\")[[\"line_text\", \"metrical_pattern\"]]\n",
    "    .assign(\n",
    "        line_text=lambda x: x[\"line_text\"].apply(clean_text),\n",
    "        length=lambda x: x[\"metrical_pattern\"].str.len()\n",
    "    )\n",
    "    .drop_duplicates(\"line_text\")\n",
    "    .rename(columns={\"line_text\": \"input_text\", \"metrical_pattern\": \"meter\"})\n",
    ")\n",
    "es = es[~es[\"input_text\"].isin(es_test[\"input_text\"])][es[\"length\"] == 11]\n",
    "pos_labels = es.meter.apply(metric2binary)\n",
    "es[\"labels\"] = pos_labels\n",
    "es[pos_names] = pos_labels.tolist()"
   ]
  },
  {
   "cell_type": "code",
   "execution_count": 4,
   "metadata": {},
   "outputs": [],
   "source": [
    "es[\"prefix\"] = \"scansion\"\n",
    "es_test[\"prefix\"] = \"scansion\"\n",
    "es[\"predict\"] = es.input_text.apply(lambda x: f\"scansion: {x}\")\n",
    "es_test[\"predict\"] = es_test.input_text.apply(lambda x: f\"scansion: {x}\")\n",
    "es[\"target_text\"] = es.meter.apply(label2indexed)\n",
    "es_test[\"target_text\"] = es_test.meter.apply(label2indexed)"
   ]
  },
  {
   "cell_type": "code",
   "execution_count": 5,
   "metadata": {},
   "outputs": [],
   "source": [
    "es_train, es_eval = train_test_split(\n",
    "    es[[\"prefix\", \"input_text\", \"target_text\"]], test_size=0.25, random_state=42)"
   ]
  },
  {
   "cell_type": "code",
   "execution_count": 7,
   "metadata": {
    "collapsed": true,
    "jupyter": {
     "outputs_hidden": true
    }
   },
   "outputs": [
    {
     "data": {
      "application/vnd.jupyter.widget-view+json": {
       "model_id": "a4105adef0c84cc792398947bff451da",
       "version_major": 2,
       "version_minor": 0
      },
      "text/plain": [
       "HBox(children=(FloatProgress(value=0.0, max=6555.0), HTML(value='')))"
      ]
     },
     "metadata": {},
     "output_type": "display_data"
    },
    {
     "name": "stdout",
     "output_type": "stream",
     "text": [
      "\n",
      "Using Adafactor for T5\n"
     ]
    },
    {
     "data": {
      "application/vnd.jupyter.widget-view+json": {
       "model_id": "9468ad81510e42918980f55c79304a28",
       "version_major": 2,
       "version_minor": 0
      },
      "text/plain": [
       "HBox(children=(FloatProgress(value=0.0, description='Epoch', max=5.0, style=ProgressStyle(description_width='i…"
      ]
     },
     "metadata": {},
     "output_type": "display_data"
    },
    {
     "data": {
      "application/vnd.jupyter.widget-view+json": {
       "model_id": "747efd4751294215832afbde768ffd95",
       "version_major": 2,
       "version_minor": 0
      },
      "text/plain": [
       "HBox(children=(FloatProgress(value=0.0, description='Running Epoch 0 of 5', max=820.0, style=ProgressStyle(des…"
      ]
     },
     "metadata": {},
     "output_type": "display_data"
    },
    {
     "name": "stdout",
     "output_type": "stream",
     "text": [
      "\n"
     ]
    },
    {
     "data": {
      "application/vnd.jupyter.widget-view+json": {
       "model_id": "582a2a878ef44e9289a5dd3a64f6ff77",
       "version_major": 2,
       "version_minor": 0
      },
      "text/plain": [
       "HBox(children=(FloatProgress(value=0.0, max=2185.0), HTML(value='')))"
      ]
     },
     "metadata": {},
     "output_type": "display_data"
    },
    {
     "name": "stdout",
     "output_type": "stream",
     "text": [
      "\n"
     ]
    },
    {
     "data": {
      "application/vnd.jupyter.widget-view+json": {
       "model_id": "48228c7f34964cbf83c98ceb184efd34",
       "version_major": 2,
       "version_minor": 0
      },
      "text/plain": [
       "HBox(children=(FloatProgress(value=0.0, description='Running Epoch 1 of 5', max=820.0, style=ProgressStyle(des…"
      ]
     },
     "metadata": {},
     "output_type": "display_data"
    },
    {
     "name": "stdout",
     "output_type": "stream",
     "text": [
      "\n"
     ]
    },
    {
     "data": {
      "application/vnd.jupyter.widget-view+json": {
       "model_id": "ea9c9549844f43db81430c9fa9b74f6e",
       "version_major": 2,
       "version_minor": 0
      },
      "text/plain": [
       "HBox(children=(FloatProgress(value=0.0, max=2185.0), HTML(value='')))"
      ]
     },
     "metadata": {},
     "output_type": "display_data"
    },
    {
     "name": "stdout",
     "output_type": "stream",
     "text": [
      "\n"
     ]
    },
    {
     "data": {
      "application/vnd.jupyter.widget-view+json": {
       "model_id": "6f9fc01933b64cf2852e7ffd9d07f951",
       "version_major": 2,
       "version_minor": 0
      },
      "text/plain": [
       "HBox(children=(FloatProgress(value=0.0, description='Running Epoch 2 of 5', max=820.0, style=ProgressStyle(des…"
      ]
     },
     "metadata": {},
     "output_type": "display_data"
    },
    {
     "name": "stdout",
     "output_type": "stream",
     "text": [
      "\n"
     ]
    },
    {
     "data": {
      "application/vnd.jupyter.widget-view+json": {
       "model_id": "9121cbb86c944ffcac608cdbab22c884",
       "version_major": 2,
       "version_minor": 0
      },
      "text/plain": [
       "HBox(children=(FloatProgress(value=0.0, max=2185.0), HTML(value='')))"
      ]
     },
     "metadata": {},
     "output_type": "display_data"
    },
    {
     "name": "stdout",
     "output_type": "stream",
     "text": [
      "\n"
     ]
    },
    {
     "data": {
      "application/vnd.jupyter.widget-view+json": {
       "model_id": "69ede1ccf3d44babab66591a8cc2c0d3",
       "version_major": 2,
       "version_minor": 0
      },
      "text/plain": [
       "HBox(children=(FloatProgress(value=0.0, description='Running Epoch 3 of 5', max=820.0, style=ProgressStyle(des…"
      ]
     },
     "metadata": {},
     "output_type": "display_data"
    },
    {
     "name": "stdout",
     "output_type": "stream",
     "text": [
      "\n"
     ]
    },
    {
     "data": {
      "application/vnd.jupyter.widget-view+json": {
       "model_id": "be9c5fdcfe6b4b469fb9fb14c889756d",
       "version_major": 2,
       "version_minor": 0
      },
      "text/plain": [
       "HBox(children=(FloatProgress(value=0.0, max=2185.0), HTML(value='')))"
      ]
     },
     "metadata": {},
     "output_type": "display_data"
    },
    {
     "name": "stdout",
     "output_type": "stream",
     "text": [
      "\n"
     ]
    },
    {
     "data": {
      "application/vnd.jupyter.widget-view+json": {
       "model_id": "c211f83e76be45febe3f1dcc9e2350f7",
       "version_major": 2,
       "version_minor": 0
      },
      "text/plain": [
       "HBox(children=(FloatProgress(value=0.0, description='Running Epoch 4 of 5', max=820.0, style=ProgressStyle(des…"
      ]
     },
     "metadata": {},
     "output_type": "display_data"
    },
    {
     "name": "stdout",
     "output_type": "stream",
     "text": [
      "\n"
     ]
    },
    {
     "data": {
      "application/vnd.jupyter.widget-view+json": {
       "model_id": "f67521f11b9c470085a620e4ff97dbc1",
       "version_major": 2,
       "version_minor": 0
      },
      "text/plain": [
       "HBox(children=(FloatProgress(value=0.0, max=2185.0), HTML(value='')))"
      ]
     },
     "metadata": {},
     "output_type": "display_data"
    },
    {
     "name": "stdout",
     "output_type": "stream",
     "text": [
      "\n",
      "\n"
     ]
    },
    {
     "data": {
      "text/plain": [
       "(4100,\n",
       " {'global_step': [820, 1640, 2460, 3280, 4100],\n",
       "  'eval_loss': [0.888180130633755,\n",
       "   0.8088074032811151,\n",
       "   0.8646798099296681,\n",
       "   0.7684073059455209,\n",
       "   0.7771830144135848],\n",
       "  'train_loss': [0.7398898005485535,\n",
       "   1.0607621669769287,\n",
       "   1.1390413045883179,\n",
       "   0.5957548022270203,\n",
       "   0.9672317504882812]})"
      ]
     },
     "execution_count": 7,
     "metadata": {},
     "output_type": "execute_result"
    }
   ],
   "source": [
    "model_args = {\n",
    "    \"output_dir\": \"./bertsification-mt5-google-mt5-large\",\n",
    "    \"max_seq_length\": 32,\n",
    "    \"train_batch_size\": 8,\n",
    "    \"eval_batch_size\": 32,\n",
    "    \"num_train_epochs\": 5,\n",
    "    \"evaluate_during_training\": True,\n",
    "    \"evaluate_during_training_steps\": 10000,\n",
    "    \"evaluate_during_training_verbose\": True,\n",
    "    \n",
    "    \"use_multiprocessing\": False,\n",
    "    \"fp16\": False,\n",
    "\n",
    "    \"save_steps\": -1,\n",
    "    \"save_eval_checkpoints\": False,\n",
    "    \"save_model_every_epoch\": False,\n",
    "\n",
    "    \"reprocess_input_data\": True,\n",
    "    \"overwrite_output_dir\": True,\n",
    "\n",
    "    #\"wandb_project\": \"mT5 Scansion for Spanish\",\n",
    "}\n",
    "\n",
    "model = T5Model(\"mt5\", \"google/mt5-large\", args=model_args)\n",
    "model.train_model(es_train, eval_data=es_eval)"
   ]
  },
  {
   "cell_type": "markdown",
   "metadata": {},
   "source": [
    "5 Epochs\n",
    "```\n",
    "(4100,\n",
    " {'global_step': [820, 1640, 2460, 3280, 4100],\n",
    "  'eval_loss': [0.888180130633755,\n",
    "   0.8088074032811151,\n",
    "   0.8646798099296681,\n",
    "   0.7684073059455209,\n",
    "   0.7771830144135848],\n",
    "  'train_loss': [0.7398898005485535,\n",
    "   1.0607621669769287,\n",
    "   1.1390413045883179,\n",
    "   0.5957548022270203,\n",
    "   0.9672317504882812]})\n",
    "```"
   ]
  },
  {
   "cell_type": "markdown",
   "metadata": {},
   "source": [
    "1 Epoch\n",
    "```\n",
    "(820,\n",
    " {'global_step': [820],\n",
    "  'eval_loss': [0.9217365530953892],\n",
    "  'train_loss': [0.720869243144989]})\n",
    "```"
   ]
  },
  {
   "cell_type": "markdown",
   "metadata": {},
   "source": [
    "---"
   ]
  },
  {
   "cell_type": "code",
   "execution_count": 6,
   "metadata": {},
   "outputs": [],
   "source": [
    "model_args = {\n",
    "    \"overwrite_output_dir\": True,\n",
    "    \"max_seq_length\": 32,\n",
    "    \"eval_batch_size\": 8,\n",
    "    \"num_train_epochs\": 1,\n",
    "    \"use_multiprocessing\": False,\n",
    "    \"num_workers\": 1,\n",
    "    \"num_beams\": None,\n",
    "    \"do_sample\": True,\n",
    "    \"max_length\": 50,\n",
    "    \"top_k\": 50,\n",
    "    \"top_p\": 0.95,\n",
    "    \"num_return_sequences\": 3,\n",
    "}"
   ]
  },
  {
   "cell_type": "code",
   "execution_count": 7,
   "metadata": {},
   "outputs": [],
   "source": [
    "# Load the trained model\n",
    "model = T5Model(\"mt5\", \"./bertsification-mt5-google-mt5-large\", args=model_args)"
   ]
  },
  {
   "cell_type": "code",
   "execution_count": 8,
   "metadata": {},
   "outputs": [],
   "source": [
    "to_predict = es_test[\"predict\"].tolist()\n",
    "truth = es_test[\"target_text\"].tolist()\n",
    "tasks = es_test[\"prefix\"].tolist()"
   ]
  },
  {
   "cell_type": "code",
   "execution_count": 17,
   "metadata": {},
   "outputs": [
    {
     "data": {
      "application/vnd.jupyter.widget-view+json": {
       "model_id": "4749e20ecef541bab3ddec5a4b8fe8b6",
       "version_major": 2,
       "version_minor": 0
      },
      "text/plain": [
       "HBox(children=(FloatProgress(value=0.0, description='Generating outputs', max=176.0, style=ProgressStyle(descr…"
      ]
     },
     "metadata": {},
     "output_type": "display_data"
    },
    {
     "name": "stdout",
     "output_type": "stream",
     "text": [
      "\n"
     ]
    },
    {
     "data": {
      "application/vnd.jupyter.widget-view+json": {
       "model_id": "201ab997193141e7ab92c1f53517b534",
       "version_major": 2,
       "version_minor": 0
      },
      "text/plain": [
       "HBox(children=(FloatProgress(value=0.0, description='Decoding outputs', max=4203.0, style=ProgressStyle(descri…"
      ]
     },
     "metadata": {},
     "output_type": "display_data"
    },
    {
     "name": "stdout",
     "output_type": "stream",
     "text": [
      "\n"
     ]
    }
   ],
   "source": [
    "import torch.multiprocessing\n",
    "torch.multiprocessing.set_sharing_strategy('file_system')\n",
    "\n",
    "# Get the model predictions\n",
    "predictions = model.predict(to_predict)"
   ]
  },
  {
   "cell_type": "code",
   "execution_count": 18,
   "metadata": {},
   "outputs": [],
   "source": [
    "# Saving the predictions if needed\n",
    "with open(f\"bertsification-mt5-google-mt5-large_preds/predictions_{datetime.now()}.txt\", \"w\") as f:\n",
    "    for i, text in enumerate(es_test[\"input_text\"].tolist()):\n",
    "        f.write(str(text) + \"\\n\\n\")\n",
    "\n",
    "        f.write(\"Truth:\\n\")\n",
    "        f.write(truth[i] + \"\\n\\n\")\n",
    "\n",
    "        f.write(\"Prediction:\\n\")\n",
    "        for pred in predictions[i]:\n",
    "            f.write(str(pred) + \"\\n\")\n",
    "        f.write(\n",
    "            \"________________________________________________________________________________\\n\"\n",
    "        )"
   ]
  },
  {
   "cell_type": "code",
   "execution_count": 19,
   "metadata": {},
   "outputs": [
    {
     "name": "stdout",
     "output_type": "stream",
     "text": [
      "-----------------------------------\n",
      "Results: \n",
      "Scores for scansion:\n",
      "F1 score: 0.6626517189686354\n",
      "Exact matches: 0.03997144896502498\n",
      "Accuracy Score: 0.03997144896502498\n",
      "\n"
     ]
    }
   ],
   "source": [
    "# Taking only the first prediction\n",
    "preds = [pred[0] for pred in predictions]\n",
    "es_test[\"predicted\"] = preds\n",
    "\n",
    "# Evaluating the tasks separately\n",
    "output_dict = {\n",
    "    \"scansion\": {\"truth\": [], \"preds\": []}\n",
    "}\n",
    "\n",
    "results_dict = {}\n",
    "\n",
    "for task, truth_value, pred in zip(tasks, truth, preds):\n",
    "    output_dict[task][\"truth\"].append(truth_value)\n",
    "    output_dict[task][\"preds\"].append(pred)\n",
    "\n",
    "print(\"-----------------------------------\")\n",
    "print(\"Results: \")\n",
    "for task, outputs in output_dict.items():\n",
    "    if task == \"scansion\":\n",
    "        try:\n",
    "            task_truth = output_dict[task][\"truth\"]\n",
    "            task_preds = output_dict[task][\"preds\"]\n",
    "            results_dict[task] = {\n",
    "                \"F1 Score\": f1(task_truth, task_preds),\n",
    "                \"Exact matches\": exact(task_truth, task_preds),\n",
    "                \"Accuracy Score\": accuracy_score(task_truth, task_preds),\n",
    "            }\n",
    "            print(f\"Scores for {task}:\")\n",
    "            print(f\"F1 score: {f1(task_truth, task_preds)}\")\n",
    "            print(f\"Exact matches: {exact(task_truth, task_preds)}\")\n",
    "            print(f\"Accuracy Score: {results_dict[task]['Accuracy Score']}\")\n",
    "            print()\n",
    "        except:\n",
    "            pass\n",
    "\n",
    "with open(f\"bertsification-mt5-google-mt5-large_preds/result_{datetime.now()}.json\", \"w\") as f:\n",
    "    json.dump(results_dict, f)"
   ]
  },
  {
   "cell_type": "code",
   "execution_count": 23,
   "metadata": {},
   "outputs": [
    {
     "data": {
      "text/plain": [
       "{'scansion': {'F1 Score': 0.6626517189686354,\n",
       "  'Exact matches': 0.03997144896502498,\n",
       "  'Accuracy Score': 0.03997144896502498}}"
      ]
     },
     "execution_count": 23,
     "metadata": {},
     "output_type": "execute_result"
    }
   ],
   "source": [
    "results_dict"
   ]
  },
  {
   "cell_type": "code",
   "execution_count": 25,
   "metadata": {},
   "outputs": [
    {
     "data": {
      "text/plain": [
       "(171, 1401)"
      ]
     },
     "execution_count": 25,
     "metadata": {},
     "output_type": "execute_result"
    }
   ],
   "source": [
    "es_test[\"all_predicted\"] = predictions\n",
    "sum(es_test.apply(lambda row: row[\"target_text\"] in row[\"all_predicted\"], axis=1)), es_test.shape[0]"
   ]
  },
  {
   "cell_type": "code",
   "execution_count": 24,
   "metadata": {},
   "outputs": [
    {
     "data": {
      "text/plain": [
       "0.12205567451820129"
      ]
     },
     "execution_count": 24,
     "metadata": {},
     "output_type": "execute_result"
    }
   ],
   "source": [
    "sum(es_test.apply(lambda row: row[\"target_text\"] in row[\"all_predicted\"], axis=1)) / es_test.shape[0]"
   ]
  },
  {
   "cell_type": "code",
   "execution_count": 26,
   "metadata": {},
   "outputs": [
    {
     "data": {
      "text/plain": [
       "0.03997144896502498"
      ]
     },
     "execution_count": 26,
     "metadata": {},
     "output_type": "execute_result"
    }
   ],
   "source": [
    "sum(es_test.apply(lambda row: row[\"target_text\"] == row[\"all_predicted\"][0], axis=1)) / es_test.shape[0]"
   ]
  }
 ],
 "metadata": {
  "environment": {
   "name": "pytorch-gpu.1-4.m56",
   "type": "gcloud",
   "uri": "gcr.io/deeplearning-platform-release/pytorch-gpu.1-4:m56"
  },
  "kernelspec": {
   "display_name": "Python 3",
   "language": "python",
   "name": "python3"
  },
  "language_info": {
   "codemirror_mode": {
    "name": "ipython",
    "version": 3
   },
   "file_extension": ".py",
   "mimetype": "text/x-python",
   "name": "python",
   "nbconvert_exporter": "python",
   "pygments_lexer": "ipython3",
   "version": "3.7.8"
  }
 },
 "nbformat": 4,
 "nbformat_minor": 4
}
